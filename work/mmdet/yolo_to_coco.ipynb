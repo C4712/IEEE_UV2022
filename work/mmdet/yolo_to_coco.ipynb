{
 "cells": [
  {
   "cell_type": "code",
   "execution_count": 1,
   "metadata": {
    "ExecuteTime": {
     "end_time": "2022-10-15T10:27:34.830704Z",
     "start_time": "2022-10-15T10:27:34.774177Z"
    }
   },
   "outputs": [],
   "source": [
    "import os\n",
    "import json\n",
    "import cv2\n",
    "import random\n",
    "import time\n",
    "from PIL import Image\n",
    "\n",
    "coco_format_save_path='../../input/coco_data/'                   #要生成的标准coco格式标签所在文件夹\n",
    "# yolo_format_classes_path='../../input/coco_data/classes.txt'     #类别文件，一行一个类\n",
    "yolo_format_annotation_path='../data_split'     #yolo格式标签所在文件夹\n",
    "img_pathDir='../../input/training_set/train/images/'             #图片所在文件夹\n",
    "\n",
    "# with open(yolo_format_classes_path,'r') as fr:                               #打开并读取类别文件\n",
    "#     lines1=fr.readlines()\n",
    "# # print(lines1)\n",
    "categories=[]                                                                 #存储类别的列表\n",
    "# for j,label in enumerate(lines1):\n",
    "for j,label in enumerate([\"Bacillariophyta\",\"Chlorella\",\"Chrysophyta\",\"Dunaliella_salina\",\"Platymonas\",\"translating_Symbiodinium\",\"bleaching_Symbiodinium\",\"normal_Symbiodinium\"]):\n",
    "    label=label.strip()\n",
    "    categories.append({'id':j+1,'name':label,'supercategory':'None'})         #将类别信息添加到categories中\n",
    "# print(categories)\n",
    "\n",
    "write_json_context=dict()                                                      #写入.json文件的大字典\n",
    "write_json_context['info']= {'description': '', 'url': '', 'version': '', 'year': 2022, 'contributor': 'ss', 'date_created': '2022-10-13'}\n",
    "write_json_context['licenses']=[{'id':1,'name':None,'url':None}]\n",
    "write_json_context['categories']=categories\n",
    "write_json_context['images']=[]\n",
    "write_json_context['annotations']=[]"
   ]
  },
  {
   "cell_type": "code",
   "execution_count": 4,
   "metadata": {
    "ExecuteTime": {
     "end_time": "2022-10-15T02:52:17.082504Z",
     "start_time": "2022-10-15T02:52:16.806401Z"
    }
   },
   "outputs": [],
   "source": [
    "#接下来的代码主要添加'images'和'annotations'的key值\n",
    "imageFileList=os.listdir(img_pathDir)                                      #遍历该文件夹下的所有文件，并将所有文件名添加到列表中\n",
    "with open('../data_split/val_fold0.txt') as ff:\n",
    "    img_paths = ff.readlines()\n",
    "for i,imagePath in enumerate(img_paths):\n",
    "    #imagePath = os.path.join(img_pathDir,imageFile)      \n",
    "    imagePath = imagePath.split('\\n')[0]#获取图片的绝对路径\n",
    "    image = Image.open(imagePath)                                               #读取图片，然后获取图片的宽和高\n",
    "    W, H = image.size\n",
    "\n",
    "    img_context={}                                                              #使用一个字典存储该图片信息\n",
    "    #img_name=os.path.basename(imagePath)                                       #返回path最后的文件名。如果path以/或\\结尾，那么就会返回空值\n",
    "    img_context['file_name']=imagePath.split('images/')[1]\n",
    "    img_context['height']=H\n",
    "    img_context['width']=W\n",
    "    #img_context['date_captured']='2022-07-8'\n",
    "    img_context['id']=i                                                         #该图片的id\n",
    "    img_context['license']=1\n",
    "    img_context['color_url']=''\n",
    "    img_context['flickr_url']=''\n",
    "    write_json_context['images'].append(img_context)                            #将该图片信息添加到'image'列表中\n",
    "\n",
    "\n",
    "    txtFile=imagePath.replace('images','labels').split('.')[0]+'.txt'                                               #获取该图片获取的txt文件\n",
    "    with open(txtFile,'r') as fr:\n",
    "        lines=fr.readlines()                                                   #读取txt文件的每一行数据，lines2是一个列表，包含了一个图片的所有标注信息\n",
    "    for j,line in enumerate(lines):\n",
    "\n",
    "        bbox_dict = {}                                                          #将每一个bounding box信息存储在该字典中\n",
    "        # line = line.strip().split()\n",
    "        # print(line.strip().split(' '))\n",
    "\n",
    "        class_id,x,y,w,h=line.strip().split(' ')                                          #获取每一个标注框的详细信息\n",
    "        class_id,x, y, w, h = int(class_id), float(x), float(y), float(w), float(h)       #将字符串类型转为可计算的int和float类型\n",
    "\n",
    "        xmin=(x-w/2)*W                                                                    #坐标转换\n",
    "        ymin=(y-h/2)*H\n",
    "        xmax=(x+w/2)*W\n",
    "        ymax=(y+h/2)*H\n",
    "        w=w*W\n",
    "        h=h*H\n",
    "\n",
    "        bbox_dict['id']=i*10000+j                                                         #bounding box的坐标信息\n",
    "        bbox_dict['image_id']=i\n",
    "        bbox_dict['category_id']=class_id+1                                               #注意目标类别要加一\n",
    "        bbox_dict['iscrowd']=0\n",
    "        height,width=abs(ymax-ymin),abs(xmax-xmin)\n",
    "        bbox_dict['area']=height*width\n",
    "        bbox_dict['bbox']=[xmin,ymin,w,h]\n",
    "        bbox_dict['segmentation']=[[xmin,ymin,xmax,ymin,xmax,ymax,xmin,ymax]]\n",
    "        write_json_context['annotations'].append(bbox_dict)                               #将每一个由字典存储的bounding box信息添加到'annotations'列表中\n",
    "\n",
    "name = os.path.join(coco_format_save_path,\"valid0\"+ '.json')\n",
    "with open(name,'w') as fw:                                                                #将字典信息写入.json文件中\n",
    "    json.dump(write_json_context,fw,indent=2)"
   ]
  },
  {
   "cell_type": "code",
   "execution_count": null,
   "metadata": {},
   "outputs": [],
   "source": []
  }
 ],
 "metadata": {
  "kernelspec": {
   "display_name": "Python 3",
   "language": "python",
   "name": "python3"
  },
  "language_info": {
   "codemirror_mode": {
    "name": "ipython",
    "version": 3
   },
   "file_extension": ".py",
   "mimetype": "text/x-python",
   "name": "python",
   "nbconvert_exporter": "python",
   "pygments_lexer": "ipython3",
   "version": "3.7.11"
  },
  "toc": {
   "base_numbering": 1,
   "nav_menu": {},
   "number_sections": true,
   "sideBar": true,
   "skip_h1_title": false,
   "title_cell": "Table of Contents",
   "title_sidebar": "Contents",
   "toc_cell": false,
   "toc_position": {},
   "toc_section_display": true,
   "toc_window_display": false
  }
 },
 "nbformat": 4,
 "nbformat_minor": 4
}
