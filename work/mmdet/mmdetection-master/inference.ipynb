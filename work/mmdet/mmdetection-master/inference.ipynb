{
 "cells": [
  {
   "cell_type": "code",
   "execution_count": 1,
   "id": "d537fc5a",
   "metadata": {
    "ExecuteTime": {
     "end_time": "2022-10-16T15:48:36.286772Z",
     "start_time": "2022-10-16T15:48:32.438641Z"
    }
   },
   "outputs": [],
   "source": [
    "from mmdet.apis import init_detector, inference_detector, show_result_pyplot\n",
    "import mmcv\n",
    "import os"
   ]
  },
  {
   "cell_type": "code",
   "execution_count": 2,
   "id": "401b34b1",
   "metadata": {
    "ExecuteTime": {
     "end_time": "2022-10-16T15:48:38.950418Z",
     "start_time": "2022-10-16T15:48:36.287674Z"
    }
   },
   "outputs": [
    {
     "name": "stdout",
     "output_type": "stream",
     "text": [
      "load checkpoint from local path: ./work_dirs/cascade_rcnn_r101_caffe_fpn_1x_coco/epoch_56.pth\n"
     ]
    }
   ],
   "source": [
    "config_file = './work_dirs/cascade_rcnn_r101_caffe_fpn_1x_coco/cascade_rcnn_r101_caffe_fpn_1x_coco.py'\n",
    "# download the checkpoint from model zoo and put it in `checkpoints/`\n",
    "# url: https://download.openmmlab.com/mmdetection/v2.0/faster_rcnn/faster_rcnn_r50_fpn_1x_coco/faster_rcnn_r50_fpn_1x_coco_20200130-047c8118.pth\n",
    "checkpoint_file = './work_dirs/cascade_rcnn_r101_caffe_fpn_1x_coco/epoch_56.pth'\n",
    "\n",
    "# build the model from a config file and a checkpoint file\n",
    "model = init_detector(config_file, checkpoint_file, device='cuda:0')"
   ]
  },
  {
   "cell_type": "code",
   "execution_count": 3,
   "id": "a595b11b",
   "metadata": {
    "ExecuteTime": {
     "end_time": "2022-10-16T15:49:05.527145Z",
     "start_time": "2022-10-16T15:48:38.951221Z"
    },
    "scrolled": true
   },
   "outputs": [
    {
     "name": "stderr",
     "output_type": "stream",
     "text": [
      "/home/qi/wanghaobo/competition/IEEE_UV2022/work/mmdet/mmdetection-master/mmdet/datasets/utils.py:70: UserWarning: \"ImageToTensor\" pipeline is replaced by \"DefaultFormatBundle\" for batch inference. It is recommended to manually replace it in the test data pipeline in your config file.\n",
      "  'data pipeline in your config file.', UserWarning)\n"
     ]
    }
   ],
   "source": [
    "# test a single image\n",
    "results = []\n",
    "for img_name in os.listdir('../../../input/test_images/images/'):\n",
    "    img = f'../../../input/test_images/images/{img_name}'\n",
    "    result = inference_detector(model, img)\n",
    "\n",
    "    for j, output in enumerate(result):\n",
    "        cur_name = os.path.basename(img)[:-4]\n",
    "        cls = j\n",
    "        if output.tolist() == []:\n",
    "            continue\n",
    "        else:\n",
    "            for bbox in output:\n",
    "                x0,y0,x1,y1,conf = float(bbox[0]),float(bbox[1]),float(bbox[2]),float(bbox[3]), float(bbox[4])\n",
    "                x1 = x1-x0\n",
    "                y1 = y1-y0\n",
    "                results.append({\"image_id\":cur_name,\"category_id\":int(cls),\"bbox\":[x0,y0,x1,y1],\"score\":float(conf)})\n",
    "with open('sub.json', 'w') as outfile:\n",
    "    json.dump(results, outfile)"
   ]
  },
  {
   "cell_type": "code",
   "execution_count": null,
   "id": "89fd92fa",
   "metadata": {},
   "outputs": [],
   "source": []
  }
 ],
 "metadata": {
  "kernelspec": {
   "display_name": "new_env",
   "language": "python",
   "name": "new_env"
  },
  "language_info": {
   "codemirror_mode": {
    "name": "ipython",
    "version": 3
   },
   "file_extension": ".py",
   "mimetype": "text/x-python",
   "name": "python",
   "nbconvert_exporter": "python",
   "pygments_lexer": "ipython3",
   "version": "3.7.11"
  },
  "toc": {
   "base_numbering": 1,
   "nav_menu": {},
   "number_sections": true,
   "sideBar": true,
   "skip_h1_title": false,
   "title_cell": "Table of Contents",
   "title_sidebar": "Contents",
   "toc_cell": false,
   "toc_position": {},
   "toc_section_display": true,
   "toc_window_display": false
  }
 },
 "nbformat": 4,
 "nbformat_minor": 5
}
